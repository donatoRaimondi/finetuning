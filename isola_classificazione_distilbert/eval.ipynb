{
 "cells": [
  {
   "cell_type": "code",
   "execution_count": 1,
   "metadata": {},
   "outputs": [
    {
     "name": "stderr",
     "output_type": "stream",
     "text": [
      "/home/raffaeleterracino/.local/lib/python3.10/site-packages/tqdm/auto.py:21: TqdmWarning: IProgress not found. Please update jupyter and ipywidgets. See https://ipywidgets.readthedocs.io/en/stable/user_install.html\n",
      "  from .autonotebook import tqdm as notebook_tqdm\n"
     ]
    }
   ],
   "source": [
    "# Torch e CUDA\n",
    "import torch\n",
    "from torch.utils.data import Subset\n",
    "\n",
    "# Transformers e Training\n",
    "from transformers import (\n",
    "    TextStreamer,\n",
    "    TrainingArguments,\n",
    "    AutoModelForSequenceClassification,\n",
    "    AutoTokenizer,\n",
    ")\n",
    "from trl import SFTTrainer\n",
    "from peft import LoraConfig, get_peft_model\n",
    "# Dataset e valutazione\n",
    "from datasets import load_dataset, Dataset\n",
    "from evaluate import load\n",
    "import bitsandbytes as bnb\n",
    "# Metriche di valutazione\n",
    "\n",
    "from sklearn.metrics import accuracy_score, precision_score, recall_score, f1_score, confusion_matrix\n",
    "# Data manipulation\n",
    "import pandas as pd\n",
    "import numpy as np\n",
    "\n",
    "# Sistema e utility\n",
    "import os\n",
    "from dotenv import load_dotenv\n",
    "from pathlib import Path\n",
    "from datetime import datetime\n",
    "\n",
    "# Visualizzazione\n",
    "import seaborn as sns\n",
    "import matplotlib.pyplot as plt\n",
    "from torch.utils.data import DataLoader\n",
    "from tqdm import tqdm"
   ]
  },
  {
   "cell_type": "code",
   "execution_count": 2,
   "metadata": {},
   "outputs": [],
   "source": [
    "num_val = \"1000\" #1000, 2000, 5000, 9000"
   ]
  },
  {
   "cell_type": "code",
   "execution_count": 3,
   "metadata": {},
   "outputs": [],
   "source": [
    "import time\n",
    "import torch\n",
    "import psutil\n",
    "import pynvml\n",
    "import os\n",
    "import pandas as pd\n",
    "import seaborn as sns\n",
    "import matplotlib.pyplot as plt\n",
    "from datetime import datetime\n",
    "from sklearn.metrics import accuracy_score, precision_score, recall_score, f1_score, confusion_matrix\n",
    "from tqdm import tqdm\n",
    "\n",
    "def evaluate_bert_model(model, tokenizer, eval_dataset, model_name, fine_tuned, num_val):\n",
    "    print(\"\\nStarting evaluation phase...\")\n",
    "\n",
    "    model.eval()  # Set to evaluation mode\n",
    "\n",
    "    # Ensure tokenizer padding\n",
    "    tokenizer.padding_side = 'left'\n",
    "    if tokenizer.pad_token is None:\n",
    "        tokenizer.pad_token = tokenizer.eos_token\n",
    "\n",
    "    predictions, true_labels, prediction_sources = [], [], []\n",
    "    batch_size = 8\n",
    "    invalid = 0\n",
    "\n",
    "    # Create results folder\n",
    "    timestamp = datetime.now().strftime(\"%Y%m%d_%H%M%S\")\n",
    "    fine_tuned_status = \"fine_tuned\" if fine_tuned else \"not_fine_tuned\"\n",
    "    output_dir = f\"{model_name}_{fine_tuned_status}_on_{num_val}\" if fine_tuned else f\"{model_name}_{fine_tuned_status}\"\n",
    "    os.makedirs(output_dir, exist_ok=True)\n",
    "\n",
    "    pynvml.nvmlInit()\n",
    "    inference_times = []\n",
    "    system_metrics = []\n",
    "\n",
    "    # Process dataset in batches\n",
    "    for i in tqdm(range(0, len(eval_dataset), batch_size), desc=\"Evaluating\", unit=\"batch\"):\n",
    "        batch = eval_dataset[i:i + batch_size]\n",
    "        texts, labels, sources = batch['text'], batch['label'], batch['source']\n",
    "\n",
    "        torch.cuda.synchronize()\n",
    "        start_time = time.time()\n",
    "\n",
    "        inputs = tokenizer(\n",
    "            texts,\n",
    "            return_tensors=\"pt\",\n",
    "            truncation=True,\n",
    "            padding=True,\n",
    "            max_length=512\n",
    "        ).to(model.device)\n",
    "\n",
    "        with torch.no_grad():\n",
    "            outputs = model(**inputs)\n",
    "            logits = outputs.logits\n",
    "            predictions_batch = torch.argmax(logits, dim=-1).cpu().tolist()\n",
    "\n",
    "        predictions.extend(predictions_batch)\n",
    "        true_labels.extend(labels)\n",
    "        prediction_sources.extend(sources)\n",
    "\n",
    "        torch.cuda.synchronize()\n",
    "        end_time = time.time()\n",
    "        inference_times.append(end_time - start_time)\n",
    "\n",
    "        cpu_usage = psutil.cpu_percent()\n",
    "        ram_usage = psutil.virtual_memory().percent\n",
    "        gpu_usage = pynvml.nvmlDeviceGetUtilizationRates(pynvml.nvmlDeviceGetHandleByIndex(0)).gpu\n",
    "        system_metrics.append({\"batch\": i//batch_size, \"cpu\": cpu_usage, \"ram\": ram_usage, \"gpu\": gpu_usage, \"time\": end_time - start_time})\n",
    "\n",
    "    if not predictions:\n",
    "        print(\"No valid predictions were generated!\")\n",
    "        return None, [], [], []\n",
    "\n",
    "    # Compute metrics\n",
    "    metrics = calculate_metrics(true_labels, predictions)\n",
    "\n",
    "    # Save metrics to CSV\n",
    "    metrics_path_csv = os.path.join(output_dir, \"metrics.csv\")\n",
    "    pd.DataFrame([metrics]).to_csv(metrics_path_csv, index=False)\n",
    "\n",
    "    # Compute average system metrics\n",
    "    if system_metrics:\n",
    "        avg_metrics = {\n",
    "            \"cpu\": sum(m[\"cpu\"] for m in system_metrics) / len(system_metrics),\n",
    "            \"ram\": sum(m[\"ram\"] for m in system_metrics) / len(system_metrics),\n",
    "            \"gpu\": sum(m[\"gpu\"] for m in system_metrics) / len(system_metrics),\n",
    "            \"time\": sum(m[\"time\"] for m in system_metrics) / len(system_metrics),\n",
    "        }\n",
    "\n",
    "        avg_metrics_df = pd.DataFrame([avg_metrics])\n",
    "        avg_metrics_path = os.path.join(output_dir, \"avg_system_metrics.csv\")\n",
    "        avg_metrics_df.to_csv(avg_metrics_path, index=False)\n",
    "\n",
    "    # Generate confusion matrix\n",
    "    cm = confusion_matrix(true_labels, predictions)\n",
    "    plt.figure(figsize=(6, 4))\n",
    "    sns.heatmap(cm, annot=True, fmt=\"d\", cmap=\"Blues\", xticklabels=['0', '1'], yticklabels=['0', '1'])\n",
    "    plt.title('Confusion Matrix')\n",
    "    plt.xlabel('Predicted')\n",
    "    plt.ylabel('True')\n",
    "    cm_path = os.path.join(output_dir, \"confusion_matrix.png\")\n",
    "    plt.savefig(cm_path, format=\"png\")\n",
    "    plt.close()\n",
    "\n",
    "    # Display results\n",
    "    print(\"\\nEvaluation Results:\")\n",
    "    print(f\"Model: {model_name}\")\n",
    "    print(f\"Samples evaluated: {len(true_labels)}\")\n",
    "    print(f\"Invalid predictions: {invalid}\")\n",
    "    print(\"\\nMetrics:\")\n",
    "    for metric_name, value in metrics.items():\n",
    "        print(f\"{metric_name}: {value:.4f}\")\n",
    "\n",
    "    return"
   ]
  },
  {
   "cell_type": "code",
   "execution_count": 4,
   "metadata": {},
   "outputs": [],
   "source": [
    "def calculate_metrics(true_labels, predictions):\n",
    "    \"\"\"\n",
    "    Calcola accuracy, precision, recall e F1-score.\n",
    "    \"\"\"\n",
    "    return {\n",
    "        'accuracy': accuracy_score(true_labels, predictions),\n",
    "        'precision': precision_score(true_labels, predictions, average='binary', zero_division=0),\n",
    "        'recall': recall_score(true_labels, predictions, average='binary', zero_division=0),\n",
    "        'f1': f1_score(true_labels, predictions, average='binary', zero_division=0)\n",
    "    }"
   ]
  },
  {
   "cell_type": "code",
   "execution_count": 5,
   "metadata": {},
   "outputs": [
    {
     "name": "stdout",
     "output_type": "stream",
     "text": [
      "{'source': 'FreeDesktop', 'label': 0, 'text': 'FreeDesktop Gstvappi04Vaapipostproc failed to convert format NV12 to RGB'}\n"
     ]
    },
    {
     "data": {
      "text/plain": [
       "DatasetDict({\n",
       "    test: Dataset({\n",
       "        features: ['source', 'label', 'text'],\n",
       "        num_rows: 2250\n",
       "    })\n",
       "})"
      ]
     },
     "execution_count": 5,
     "metadata": {},
     "output_type": "execute_result"
    }
   ],
   "source": [
    "#load dataset\n",
    "dataset = load_dataset(\n",
    "    \"csv\",\n",
    "    data_files={\n",
    "        \"test\": f\"../dataset_completo/balanced_datasets/balanced_test.csv\", \n",
    "    },\n",
    ")\n",
    "# product,component,priority,severity,first_comment,first_priority,first_severity,days_resolution,comments,label\n",
    "# Define the fields to concatenate\n",
    "def concatenate_fields(example):\n",
    "    fields_to_concat = [\n",
    "        example['source'],\n",
    "        #example['product'], \n",
    "        example['short_desc'], \n",
    "        #example['priority'], \n",
    "        #example['bug_severity'],\n",
    "        #example['days_resolution'],\n",
    "        #example['comments'],\n",
    "    ]\n",
    "    \n",
    "    # Join the fields into a single string for the 'text' column\n",
    "    example['text'] = ' '.join([str(field) for field in fields_to_concat if field])\n",
    "    return example\n",
    "\n",
    "# Apply the concatenation to both train and test datasets\n",
    "dataset = dataset.map(concatenate_fields)\n",
    "dataset = dataset.remove_columns([\n",
    "    'product', \n",
    "    'short_desc', \n",
    "    'priority', \n",
    "    'bug_severity',\n",
    "    #'source',\n",
    "    'days_resolution',\n",
    "    'comments']) # lasciamo solo la colonna text per la classificazione\n",
    "\n",
    "print(dataset['test'][1])\n",
    "dataset\n"
   ]
  },
  {
   "cell_type": "markdown",
   "metadata": {},
   "source": [
    "secegliere se fare l'evaluation del modello fine tunato o sul modello base"
   ]
  },
  {
   "cell_type": "code",
   "execution_count": 6,
   "metadata": {},
   "outputs": [],
   "source": [
    "from transformers import AutoModelForSequenceClassification, AutoTokenizer\n",
    "import torch\n",
    "import os\n",
    "\n",
    "def load_model(model_name= 'distilbert-base-uncased', fine_tuned=False, fine_tuned_path=None, device=\"cuda\"):\n",
    "    \"\"\"\n",
    "    Carica un modello pre-addestrato o fine-tunato per la classificazione.\n",
    "    \n",
    "    :param model_name: Nome del modello pre-addestrato (es. 'bert-base-uncased')\n",
    "    :param fine_tuned: Booleano, se True carica il modello fine-tunato\n",
    "    :param fine_tuned_path: Percorso del modello fine-tunato\n",
    "    :param device: Dispositivo su cui caricare il modello ('cuda' o 'cpu')\n",
    "    :return: Modello e tokenizer\n",
    "    \"\"\"\n",
    "    # define label maps\n",
    "    id2label = {0: \"fast\", 1: \"slow\"}\n",
    "    label2id = {\"fast\": 0, \"slow\": 1}\n",
    "\n",
    "\n",
    "    if fine_tuned and fine_tuned_path and os.path.exists(fine_tuned_path):\n",
    "        print(f\"Loading fine-tuned model from: {fine_tuned_path}\")\n",
    "        model = AutoModelForSequenceClassification.from_pretrained(\n",
    "           fine_tuned_path, num_labels=2, id2label=id2label, label2id=label2id\n",
    "        )\n",
    "        tokenizer = AutoTokenizer.from_pretrained(model_name)\n",
    "    else:\n",
    "        print(f\"Loading base model: {model_name}\")\n",
    "        model = AutoModelForSequenceClassification.from_pretrained(\n",
    "        model_name, num_labels=2, id2label=id2label, label2id=label2id\n",
    "        )\n",
    "        tokenizer = AutoTokenizer.from_pretrained(model_name)\n",
    "\n",
    "    # Spostare su GPU se disponibile\n",
    "    device = torch.device(device if torch.cuda.is_available() else \"cpu\")\n",
    "    model.to(device)\n",
    "    print(f\"📌 Model loaded on: {device}\")\n",
    "\n",
    "    return model, tokenizer\n"
   ]
  },
  {
   "cell_type": "code",
   "execution_count": 12,
   "metadata": {},
   "outputs": [
    {
     "name": "stdout",
     "output_type": "stream",
     "text": [
      "Loading base model: distilbert-base-uncased\n"
     ]
    },
    {
     "name": "stderr",
     "output_type": "stream",
     "text": [
      "Some weights of DistilBertForSequenceClassification were not initialized from the model checkpoint at distilbert-base-uncased and are newly initialized: ['classifier.bias', 'classifier.weight', 'pre_classifier.bias', 'pre_classifier.weight']\n",
      "You should probably TRAIN this model on a down-stream task to be able to use it for predictions and inference.\n"
     ]
    },
    {
     "name": "stdout",
     "output_type": "stream",
     "text": [
      "📌 Model loaded on: cuda\n"
     ]
    }
   ],
   "source": [
    "fine_tuned = False\n",
    "model_name= 'distilbert-base-uncased'\n",
    "model, tokenizer = load_model(model_name= 'distilbert-base-uncased', fine_tuned=fine_tuned, fine_tuned_path=None, device=\"cuda\")"
   ]
  },
  {
   "cell_type": "code",
   "execution_count": null,
   "metadata": {},
   "outputs": [],
   "source": [
    "fine_tuned= True\n",
    "fine_tuned_path=f\"./fine_tuned_model_distilbert-base-uncased_{num_val}\"\n",
    "model, tokenizer = load_model(model_name= 'distilbert-base-uncased', fine_tuned=fine_tuned, fine_tuned_path=f\"./fine_tuned_model_distilbert-base-uncased_{num_val}\", device=\"cuda\")"
   ]
  },
  {
   "cell_type": "code",
   "execution_count": 13,
   "metadata": {},
   "outputs": [],
   "source": [
    "# add pad token if none exists\n",
    "if tokenizer.pad_token is None:\n",
    "    tokenizer.add_special_tokens({'pad_token': '[PAD]'})\n",
    "    model.resize_token_embeddings(len(tokenizer))"
   ]
  },
  {
   "cell_type": "code",
   "execution_count": 14,
   "metadata": {},
   "outputs": [],
   "source": [
    "# create tokenize function\n",
    "def tokenize_function(examples):\n",
    "    return tokenizer(examples[\"text\"], padding=\"max_length\", truncation=True, max_length=512)\n"
   ]
  },
  {
   "cell_type": "code",
   "execution_count": 15,
   "metadata": {},
   "outputs": [],
   "source": [
    "# tokenize training and validation datasets\n",
    "tokenized_dataset = dataset.map(tokenize_function, batched=True)\n",
    "\n",
    "# Rimuove il testo originale per risparmiare memoria\n",
    "tokenized_dataset = tokenized_dataset.remove_columns([\"text\"])\n",
    "\n",
    "# Converti i dataset in formato PyTorch\n",
    "tokenized_dataset.set_format(\"torch\")\n",
    "\n",
    "tokenizer.pad_token = tokenizer.eos_token if tokenizer.pad_token is None else tokenizer.pad_token\n",
    "tokenizer.padding_side = \"right\"\n"
   ]
  },
  {
   "cell_type": "code",
   "execution_count": 16,
   "metadata": {},
   "outputs": [
    {
     "name": "stdout",
     "output_type": "stream",
     "text": [
      "\n",
      "Starting evaluation phase...\n"
     ]
    },
    {
     "name": "stderr",
     "output_type": "stream",
     "text": [
      "Evaluating: 100%|██████████| 282/282 [00:01<00:00, 184.63batch/s]\n"
     ]
    },
    {
     "name": "stdout",
     "output_type": "stream",
     "text": [
      "\n",
      "Evaluation Results:\n",
      "Model: distilbert-base-uncased\n",
      "Samples evaluated: 2250\n",
      "Invalid predictions: 0\n",
      "\n",
      "Metrics:\n",
      "accuracy: 0.5080\n",
      "precision: 0.5054\n",
      "recall: 0.7484\n",
      "f1: 0.6034\n"
     ]
    }
   ],
   "source": [
    "# Esegui la valutazione con il modello fine-tunato\n",
    "if fine_tuned:\n",
    "    evaluate_bert_model(\n",
    "        model=model,\n",
    "        tokenizer=tokenizer,\n",
    "        eval_dataset=dataset[\"test\"],\n",
    "        model_name=f\"./fine_tuned_model_distilbert-base-uncased_{num_val}\",\n",
    "        fine_tuned=fine_tuned,\n",
    "        num_val=num_val\n",
    "    )\n",
    "else:\n",
    "    evaluate_bert_model(\n",
    "        model=model,\n",
    "        tokenizer=tokenizer,\n",
    "        eval_dataset=dataset[\"test\"],\n",
    "        model_name=model_name,\n",
    "        fine_tuned=fine_tuned,\n",
    "        num_val=0\n",
    "    )\n"
   ]
  }
 ],
 "metadata": {
  "kernelspec": {
   "display_name": "Python 3",
   "language": "python",
   "name": "python3"
  },
  "language_info": {
   "codemirror_mode": {
    "name": "ipython",
    "version": 3
   },
   "file_extension": ".py",
   "mimetype": "text/x-python",
   "name": "python",
   "nbconvert_exporter": "python",
   "pygments_lexer": "ipython3",
   "version": "3.10.12"
  }
 },
 "nbformat": 4,
 "nbformat_minor": 2
}
